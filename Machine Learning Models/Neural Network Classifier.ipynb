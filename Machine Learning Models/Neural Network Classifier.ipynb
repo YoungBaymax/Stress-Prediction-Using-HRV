{
  "nbformat": 4,
  "nbformat_minor": 0,
  "metadata": {
    "colab": {
      "name": "Detecting Stress using HRV.ipynb",
      "provenance": [],
      "collapsed_sections": []
    },
    "kernelspec": {
      "name": "python3",
      "display_name": "Python 3"
    },
    "accelerator": "GPU"
  },
  "cells": [
    {
      "cell_type": "code",
      "metadata": {
        "id": "OncBuCNo-b74",
        "colab_type": "code",
        "colab": {}
      },
      "source": [
        "#math/data libs\n",
        "import numpy as np\n",
        "import pandas as pd\n",
        "from sklearn.preprocessing import MinMaxScaler\n",
        "from sklearn.preprocessing import OneHotEncoder\n",
        "\n",
        "#ml libs\n",
        "import keras\n",
        "from keras import backend as K\n",
        "from keras.models import Sequential\n",
        "from keras. layers import Activation\n",
        "from keras.layers.core import Dense\n",
        "from keras.optimizers import Adam\n",
        "from keras.metrics import categorical_crossentropy\n",
        "from keras.utils import to_categorical"
      ],
      "execution_count": 0,
      "outputs": []
    },
    {
      "cell_type": "code",
      "metadata": {
        "id": "h9P-G9taAH88",
        "colab_type": "code",
        "colab": {}
      },
      "source": [
        "from google.colab import drive\n",
        "drive.mount('/content/drive')"
      ],
      "execution_count": 0,
      "outputs": []
    },
    {
      "cell_type": "code",
      "metadata": {
        "id": "SqyeyGSuAyLu",
        "colab_type": "code",
        "colab": {}
      },
      "source": [
        "trainFile = pd.read_csv('/content/drive/My Drive/TechJam/train.csv').drop(columns=\"datasetId\")\n",
        "testFile = pd.read_csv('/content/drive/My Drive/TechJam/test.csv').drop(columns=\"datasetId\")"
      ],
      "execution_count": 0,
      "outputs": []
    },
    {
      "cell_type": "code",
      "metadata": {
        "id": "e-olX2v9BjWz",
        "colab_type": "code",
        "colab": {}
      },
      "source": [
        "#train\n",
        "train_samples = trainFile.drop(columns='condition').to_numpy()\n",
        "train_labels = trainFile['condition'].to_numpy()\n",
        "\n",
        "#test\n",
        "test_samples = testFile.drop(columns='condition').to_numpy()\n",
        "test_labels = testFile['condition'].to_numpy()"
      ],
      "execution_count": 0,
      "outputs": []
    },
    {
      "cell_type": "code",
      "metadata": {
        "id": "zjKqblmHC8BF",
        "colab_type": "code",
        "colab": {}
      },
      "source": [
        "#normalizing features\n",
        "scaler = MinMaxScaler(feature_range=(0,1))\n",
        "train_samples = scaler.fit_transform(train_samples)\n",
        "test_samples = scaler.fit_transform(test_samples)\n",
        "\n",
        "#one-hot-encoding labels\n",
        "one_hot_encoder = OneHotEncoder(categories='auto')\n",
        "train_labels = one_hot_encoder.fit_transform(train_labels.reshape(-1, 1)).toarray()\n",
        "test_labels = one_hot_encoder.fit_transform(test_labels.reshape(-1, 1)).toarray()"
      ],
      "execution_count": 0,
      "outputs": []
    },
    {
      "cell_type": "code",
      "metadata": {
        "id": "mExpPxiO_TuV",
        "colab_type": "code",
        "colab": {}
      },
      "source": [
        "#build the model\n",
        "model = Sequential([\n",
        "    Dense(34, input_shape=[34,], activation='relu'),\n",
        "#     Dense(20, activation='relu'),\n",
        "    Dense(10, activation='relu'),\n",
        "    Dense(3, activation='softmax')\n",
        "])"
      ],
      "execution_count": 0,
      "outputs": []
    },
    {
      "cell_type": "code",
      "metadata": {
        "id": "zYJPmEjG_TwQ",
        "colab_type": "code",
        "colab": {
          "base_uri": "https://localhost:8080/",
          "height": 257
        },
        "outputId": "b4011586-45a3-417d-b2a3-7704090697ad"
      },
      "source": [
        "model.summary()"
      ],
      "execution_count": 85,
      "outputs": [
        {
          "output_type": "stream",
          "text": [
            "Model: \"sequential_8\"\n",
            "_________________________________________________________________\n",
            "Layer (type)                 Output Shape              Param #   \n",
            "=================================================================\n",
            "dense_26 (Dense)             (None, 34)                1190      \n",
            "_________________________________________________________________\n",
            "dense_27 (Dense)             (None, 10)                350       \n",
            "_________________________________________________________________\n",
            "dense_28 (Dense)             (None, 3)                 33        \n",
            "=================================================================\n",
            "Total params: 1,573\n",
            "Trainable params: 1,573\n",
            "Non-trainable params: 0\n",
            "_________________________________________________________________\n"
          ],
          "name": "stdout"
        }
      ]
    },
    {
      "cell_type": "code",
      "metadata": {
        "id": "nMq65bPkBP6T",
        "colab_type": "code",
        "colab": {}
      },
      "source": [
        "model.compile(Adam(lr=.0001),\n",
        "              loss='categorical_crossentropy',\n",
        "              metrics=['accuracy'])"
      ],
      "execution_count": 0,
      "outputs": []
    },
    {
      "cell_type": "code",
      "metadata": {
        "id": "saBFc3aVBQIU",
        "colab_type": "code",
        "colab": {
          "base_uri": "https://localhost:8080/",
          "height": 154
        },
        "outputId": "a163d56d-e621-489e-cf3f-4abaf111385e"
      },
      "source": [
        "model.fit(train_samples, train_labels, validation_split=0.1, batch_size=10, epochs=3, shuffle=True, verbose=2)"
      ],
      "execution_count": 87,
      "outputs": [
        {
          "output_type": "stream",
          "text": [
            "Train on 332360 samples, validate on 36929 samples\n",
            "Epoch 1/3\n",
            " - 112s - loss: 0.8319 - acc: 0.6369 - val_loss: 0.7507 - val_acc: 0.6802\n",
            "Epoch 2/3\n",
            " - 110s - loss: 0.6985 - acc: 0.6984 - val_loss: 0.6563 - val_acc: 0.7144\n",
            "Epoch 3/3\n",
            " - 109s - loss: 0.6208 - acc: 0.7385 - val_loss: 0.5923 - val_acc: 0.7466\n"
          ],
          "name": "stdout"
        },
        {
          "output_type": "execute_result",
          "data": {
            "text/plain": [
              "<keras.callbacks.History at 0x7fba404f0b70>"
            ]
          },
          "metadata": {
            "tags": []
          },
          "execution_count": 87
        }
      ]
    },
    {
      "cell_type": "code",
      "metadata": {
        "id": "ylh_L1FTP-sa",
        "colab_type": "code",
        "colab": {}
      },
      "source": [
        "model.save('model.h5')"
      ],
      "execution_count": 0,
      "outputs": []
    },
    {
      "cell_type": "code",
      "metadata": {
        "id": "OBlzeL4Uj4J8",
        "colab_type": "code",
        "colab": {
          "base_uri": "https://localhost:8080/",
          "height": 137
        },
        "outputId": "1ede1afb-35ac-42f9-d33d-dd08a53658e3"
      },
      "source": [
        "model.predict(test_samples)"
      ],
      "execution_count": 92,
      "outputs": [
        {
          "output_type": "execute_result",
          "data": {
            "text/plain": [
              "array([[0.1126608 , 0.8332116 , 0.05412759],\n",
              "       [0.02249658, 0.77812797, 0.19937544],\n",
              "       [0.47015983, 0.48569497, 0.0441452 ],\n",
              "       ...,\n",
              "       [0.00916936, 0.6517755 , 0.33905518],\n",
              "       [0.08203984, 0.71687603, 0.20108415],\n",
              "       [0.32056192, 0.5739703 , 0.10546778]], dtype=float32)"
            ]
          },
          "metadata": {
            "tags": []
          },
          "execution_count": 92
        }
      ]
    },
    {
      "cell_type": "code",
      "metadata": {
        "id": "8lFvO6kLkjB7",
        "colab_type": "code",
        "colab": {
          "base_uri": "https://localhost:8080/",
          "height": 240
        },
        "outputId": "2ac3fb12-d44c-4e20-829b-9895057a8b3d"
      },
      "source": [
        "test_samples"
      ],
      "execution_count": 94,
      "outputs": [
        {
          "output_type": "execute_result",
          "data": {
            "text/plain": [
              "array([[0.22531332, 0.18486409, 0.08844309, ..., 0.26053516, 0.92367922,\n",
              "        0.64162156],\n",
              "       [0.38244367, 0.28799639, 0.0581626 , ..., 0.04047566, 0.99034621,\n",
              "        0.66112158],\n",
              "       [0.53098161, 0.39563865, 0.19693847, ..., 0.0183135 , 0.99026903,\n",
              "        0.33885214],\n",
              "       ...,\n",
              "       [0.18331272, 0.12845198, 0.19874266, ..., 0.27243779, 0.91292724,\n",
              "        0.55324208],\n",
              "       [0.27636484, 0.21461972, 0.062443  , ..., 0.17858342, 0.97595153,\n",
              "        0.61357042],\n",
              "       [0.41409514, 0.31321216, 0.06339303, ..., 0.03413039, 0.9491316 ,\n",
              "        0.33185303]])"
            ]
          },
          "metadata": {
            "tags": []
          },
          "execution_count": 94
        }
      ]
    },
    {
      "cell_type": "code",
      "metadata": {
        "id": "WvJQx81npgJ1",
        "colab_type": "code",
        "colab": {}
      },
      "source": [
        ""
      ],
      "execution_count": 0,
      "outputs": []
    }
  ]
}